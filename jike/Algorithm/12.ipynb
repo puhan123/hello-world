{
 "cells": [
  {
   "cell_type": "code",
   "execution_count": null,
   "metadata": {},
   "outputs": [],
   "source": [
    "\"\"\"\n",
    "为什么快排思想在O(n)内查找第K大元素？\n",
    "\n",
    "归并排序和快速排序\n",
    "\n",
    "分治思想\n",
    "\n",
    "1、归并排序的原理\n",
    "2、归并排序的性能分析\n",
    "3、快速排序的原理\n",
    "4、快速排序的性能分析\n",
    "\n",
    "1、如何用递归代码实现归并排序s\n",
    "\n",
    "\"\"\""
   ]
  },
  {
   "cell_type": "code",
   "execution_count": 1,
   "metadata": {},
   "outputs": [],
   "source": [
    "import pandas as pd\n",
    "#归并排序算法，A是数组，n是数组大小\n",
    "def merge_sort(n,A=[]):#非默认值参数应该放在默认值参数前面\n",
    "    merge_sort_c(A,0,n-1)\n",
    "    \n",
    "#递归调用函数\n",
    "def merge_sort_c(p,r,A=[]):\n",
    "    #递归终止条件\n",
    "    if p>=r:\n",
    "        return\n",
    "    #取p到r之间的中间位置q\n",
    "    q=(p+r)/2\n",
    "    #分治递归\n",
    "    merge_sort_c(A,p,q)\n",
    "    merge_sort_c(A,q+1,r)\n",
    "    #将A[p...q]和A[q+1...r]合并为A[p...r]\n",
    "    merge(A[p:r+1],A[p:q+1],A[q+1:r+1])"
   ]
  },
  {
   "cell_type": "code",
   "execution_count": null,
   "metadata": {},
   "outputs": [],
   "source": [
    "def merge(A[p:r+1],A[p:q+1],A[q+1:r+1]):\n",
    "    #借助哨兵来实现，实现两个有序列表的排序\n",
    "    \n",
    "    \n",
    "    "
   ]
  },
  {
   "cell_type": "code",
   "execution_count": null,
   "metadata": {},
   "outputs": [],
   "source": [
    "A=[4,3,2,1,5]\n",
    "merge_sort_c(0,4,A)\n"
   ]
  },
  {
   "cell_type": "code",
   "execution_count": null,
   "metadata": {},
   "outputs": [],
   "source": []
  }
 ],
 "metadata": {
  "kernelspec": {
   "display_name": "Python 3",
   "language": "python",
   "name": "python3"
  },
  "language_info": {
   "codemirror_mode": {
    "name": "ipython",
    "version": 3
   },
   "file_extension": ".py",
   "mimetype": "text/x-python",
   "name": "python",
   "nbconvert_exporter": "python",
   "pygments_lexer": "ipython3",
   "version": "3.6.5"
  }
 },
 "nbformat": 4,
 "nbformat_minor": 2
}
