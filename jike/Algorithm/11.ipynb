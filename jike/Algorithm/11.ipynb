{
 "cells": [
  {
   "cell_type": "code",
   "execution_count": null,
   "metadata": {},
   "outputs": [],
   "source": [
    "\"\"\"\n",
    "冒泡、插入、选择\n",
    "快排、归并\n",
    "桶、计数、基数\n",
    "\"\"\"\n",
    "\"\"\"\n",
    "问题：\n",
    "1、对于各种各样的排序算法，在什么场景下用什么算法？\n",
    "2、如何分析一个”排序算法“\n",
    "   2.1 排序算法的执行效率\n",
    "   1）最好情况、最坏情况、平均情况时间复杂度\n",
    "      \n",
    "      因为有序度不同的数据对于排序的执行时间有影响\n",
    "   \n",
    "   2）时间复杂度的系数、常数、低阶\n",
    "      \n",
    "      时间复杂度反应的是数据规模n很大的时候的一个增长趋势，它表示的时候会忽略系数、常数、低阶\n",
    "      \n",
    "      但在实际开发中，我们排序的可能是10、100、1000这种小规模的数据，所以在对同一阶时间复杂度的排序算法\n",
    "      的排序算法性能对比时，需要考虑系数、常数、低阶\n",
    "   \n",
    "   3）比较次数和交换（或移动）次数\n",
    "   \n",
    "   2.2 排序算法的内存消耗\n",
    "   \n",
    "      空间复杂度\n",
    "      原地排序：空间复杂度为O(1)的排序算法\n",
    "   2.3 排序算法的稳定性\n",
    "      \n",
    "     待排序数据中存在值相等的元素，经过排序后，相等元素之间的先后顺序不变---稳定排序算法\n",
    "\n",
    "\n",
    "3、插入排序和冒泡排序的时间复杂度一样，为什么我们更倾向于使用插入排序算法？而不用冒泡？\n",
    "\n",
    "\n",
    "\"\"\""
   ]
  },
  {
   "cell_type": "code",
   "execution_count": null,
   "metadata": {},
   "outputs": [],
   "source": [
    "\"\"\"\n",
    "有序度\n",
    "\n",
    "逆序度\n",
    "\"\"\""
   ]
  },
  {
   "cell_type": "code",
   "execution_count": 7,
   "metadata": {},
   "outputs": [
    {
     "name": "stdout",
     "output_type": "stream",
     "text": [
      "[1, 2, 3, 4, 5, 6]\n"
     ]
    }
   ],
   "source": [
    "\"\"\"\n",
    "  冒泡排序\n",
    "\n",
    "  原地排序\n",
    "  稳定的排序算法\n",
    "  最好：O(n)\n",
    "  最坏：O(n^2)\n",
    "  平均：平均交换次数 n*(n-1)/4\n",
    "\n",
    "\"\"\"\n",
    "\n",
    "def bubbleSort(a=[]):\n",
    "    n=len(a)\n",
    "    if (n<=1):\n",
    "        return \n",
    "    for i in range(0,n):\n",
    "        flag=False\n",
    "        for j in range(0,n-i-1):\n",
    "            if(a[j]>a[j+1]):\n",
    "                a[j],a[j+1]=a[j+1],a[j]\n",
    "                flag=True\n",
    "        #当数据没有交换时，达到了完全有序\n",
    "        if(flag!=True):\n",
    "            break\n",
    "a=[3,5,4,1,2,6]\n",
    "bubbleSort(a)\n",
    "print(a)"
   ]
  },
  {
   "cell_type": "code",
   "execution_count": 28,
   "metadata": {},
   "outputs": [
    {
     "name": "stdout",
     "output_type": "stream",
     "text": [
      "[1, 2, 3, 4, 5, 6]\n"
     ]
    }
   ],
   "source": [
    "\"\"\"\n",
    "  插入排序：(已排序区间+未排序区间，初始已排序区间就是1个元素)\n",
    "  \n",
    "  逆序度=数据移动的个数\n",
    "  \n",
    "  原地排序\n",
    "  稳定的排序算法\n",
    "  时间复杂度：\n",
    "     最好：O(n)\n",
    "     最坏：O(n^2)\n",
    "     平均：O(n^2)\n",
    "\"\"\"\n",
    "\n",
    "def insertionSort(a=[]):\n",
    "    n=len(a);\n",
    "    if(n<1):\n",
    "        return\n",
    "    for i in range(1,n):\n",
    "        value=a[i]\n",
    "        j=i-1\n",
    "        while j>=0 and a[j]>value:\n",
    "            a[j+1]=a[j]\n",
    "            j-=1\n",
    "        a[j+1]=value\n",
    "a=[4,5,6,1,3,2]\n",
    "insertionSort(a)\n",
    "print(a)\n",
    "        \n",
    "  \n",
    "    \n",
    "    "
   ]
  },
  {
   "cell_type": "code",
   "execution_count": 68,
   "metadata": {},
   "outputs": [
    {
     "name": "stdout",
     "output_type": "stream",
     "text": [
      "bubblesort的排序时间12.669605255126953秒\n",
      "bubblesort的排序时间0.0049970149993896484秒\n"
     ]
    }
   ],
   "source": [
    "\"\"\"随机生成10000个数组，每个数组包含200个数据\"\"\"\n",
    "import random\n",
    "from time import time\n",
    "b=[]\n",
    "for i in range(10000):\n",
    "  b.append([random.randint(0,10000) for i in range(200)])\n",
    "#print(b)\n",
    "start=time()\n",
    "a=bubbleSort(b)\n",
    "stop=time()\n",
    "print(\"bubblesort的排序时间\"+str(stop-start)\\n+\"秒\")\n",
    "start=time()\n",
    "c=insertionSort(b)\n",
    "stop=time()\n",
    "print(\"bubblesort的排序时间\"+str(stop-start)+\"秒\")\n"
   ]
  },
  {
   "cell_type": "code",
   "execution_count": null,
   "metadata": {},
   "outputs": [],
   "source": []
  },
  {
   "cell_type": "code",
   "execution_count": 22,
   "metadata": {},
   "outputs": [
    {
     "name": "stdout",
     "output_type": "stream",
     "text": [
      "5\n",
      "4\n",
      "3\n",
      "2\n",
      "1\n"
     ]
    }
   ],
   "source": [
    "for i in range(5,0,-1):\n",
    "    print(i)"
   ]
  },
  {
   "cell_type": "code",
   "execution_count": 63,
   "metadata": {},
   "outputs": [
    {
     "name": "stdout",
     "output_type": "stream",
     "text": [
      "None\n"
     ]
    }
   ],
   "source": [
    "\"\"\"\n",
    "选择排序(Selection Sort):\n",
    "\n",
    "\n",
    "\"\"\"\n",
    "def SelectionSort(a=[]):\n",
    "    n=len(a)\n",
    "    if(n<1):\n",
    "        return\n",
    "    for i in range(0,n):\n",
    "        min_index=i\n",
    "        min_val=a[i]\n",
    "        for j in range(i,n):\n",
    "            if(a[j]<min_val):\n",
    "                min_val=a[j]\n",
    "                min_index=j\n",
    "        #交换元素\n",
    "        a[i],a[min_index]=a[min_index],a[i]\n",
    "a=[4,5,6,3,2,1]\n",
    "a=SelectionSort(a)\n",
    "print(a)\n",
    "            "
   ]
  },
  {
   "cell_type": "code",
   "execution_count": 59,
   "metadata": {},
   "outputs": [
    {
     "name": "stdout",
     "output_type": "stream",
     "text": [
      "[1]\n"
     ]
    }
   ],
   "source": [
    "a=[1,2]\n",
    "a.pop(min(a))\n",
    "print(a)"
   ]
  },
  {
   "cell_type": "code",
   "execution_count": 55,
   "metadata": {},
   "outputs": [
    {
     "name": "stdout",
     "output_type": "stream",
     "text": [
      "[[4, 5, 6, 3, 2, 1]]\n"
     ]
    }
   ],
   "source": [
    "\n",
    "a=[4,5,6,3,2,1]\n",
    "b=[]\n",
    "b.append(a[0:6])\n",
    "a.pop(min(a))\n",
    "print(b)\n"
   ]
  }
 ],
 "metadata": {
  "kernelspec": {
   "display_name": "Python 3",
   "language": "python",
   "name": "python3"
  },
  "language_info": {
   "codemirror_mode": {
    "name": "ipython",
    "version": 3
   },
   "file_extension": ".py",
   "mimetype": "text/x-python",
   "name": "python",
   "nbconvert_exporter": "python",
   "pygments_lexer": "ipython3",
   "version": "3.6.5"
  }
 },
 "nbformat": 4,
 "nbformat_minor": 2
}
