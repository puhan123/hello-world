{
 "cells": [
  {
   "cell_type": "code",
   "execution_count": 32,
   "metadata": {},
   "outputs": [
    {
     "name": "stdout",
     "output_type": "stream",
     "text": [
      "53\n",
      "0b110101\n"
     ]
    }
   ],
   "source": [
    "\"\"\"二进制和十进制在python语言中如何相互转换\"\"\"\n",
    "\"二进制转十进制\"\n",
    "\n",
    "def binaryToDecimal(binarySource):\n",
    "    \"使用内置函数实现进制转换\"\n",
    "    return int(binarySource,2)\n",
    "    \n",
    "    \n",
    "\n",
    "\"十进制转二进制\"\n",
    "\n",
    "def decimalToBinary(decimalSource):\n",
    "    return bin(decimalSource)\n",
    "#int('110101',2)\n",
    "print(binaryToDecimal('110101'))\n",
    "print(decimalToBinary(53))\n"
   ]
  },
  {
   "cell_type": "code",
   "execution_count": null,
   "metadata": {},
   "outputs": [],
   "source": [
    "\"\"\"用代码进行移位操作\"\"\"\n",
    "\"向左移位\"\n",
    "#@param num是等待移位的十进制数，m是左移的位数\n",
    "def leftShift(num,m):\n",
    "    return num<<m\n",
    "#二进制左移一位，就是让数字翻倍\n",
    "leftShift(53,1)\n",
    "\n",
    "\n",
    "\n",
    "#\"向右移位\"\n",
    "def rightShift(num,n):\n",
    "    return num>>n\n",
    "rightShift(-53,1)"
   ]
  },
  {
   "cell_type": "code",
   "execution_count": null,
   "metadata": {},
   "outputs": [],
   "source": [
    "\"在代码中实现二进制的逻辑操作\"\n",
    "#或操作\n",
    "def orOperation(num1,num2):\n",
    "    return (num1|num2)\n",
    "a=binaryToDecimal('1001')\n",
    "b=binaryToDecimal('0110')\n",
    "print(bin(orOperation(a,b)))\n",
    "\n",
    "#与操作\n",
    "def andOperation(num1,num2):\n",
    "    return (num1&num2)\n",
    "a=binaryToDecimal('110101')\n",
    "b=binaryToDecimal('100011')\n",
    "print(bin(andOperation(a,b)))\n",
    "\n",
    "\n",
    "#异或操作\n",
    "\"当且仅当两个数相等时，才异或为0\"\n",
    "def xorOperation(num1,num2):\n",
    "    return (num1^num2)\n",
    "a=binaryToDecimal('1001')\n",
    "b=binaryToDecimal('0110')\n",
    "print(bin(xorOperation(a,b)))\n",
    "\n",
    "#print(xorOperation(1001,0110))"
   ]
  },
  {
   "cell_type": "code",
   "execution_count": 31,
   "metadata": {},
   "outputs": [
    {
     "name": "stdout",
     "output_type": "stream",
     "text": [
      "1000000000000000000000000000000000000000000000000000000000110101 \n",
      "110101 \n"
     ]
    }
   ],
   "source": [
    "\"\"\"\n",
    "   思考题：不借助于Python的内置函数，如何实现十进制到二进制的转换？\n",
    "   提示：可以使用二进制的移位和按位逻辑操作来实现\n",
    "\"\"\"\n",
    "\n",
    "def decimalToBinary(decimalSource):\n",
    "    #如果是负数的话，先换成正数，然后取反加1，再递归调用本函数\n",
    "    if(decimalSource<0):\n",
    "        return(decimalToBinary(abs(decimalSource)^sys.maxsize+1))\n",
    "        \n",
    "    r=' '\n",
    "    while(decimalSource!=0):\n",
    "        r=r+ str(decimalSource&1)    #decimalSource&1是为了获得最低位的二进制数值\n",
    "        decimalSource=decimalSource>>1\n",
    "    return r[::-1]                   #实现str的反转\n",
    "print(decimalToBinary(-53))\n",
    "print(decimalToBinary(53))\n",
    "\n",
    "\n"
   ]
  }
 ],
 "metadata": {
  "kernelspec": {
   "display_name": "Python 3",
   "language": "python",
   "name": "python3"
  },
  "language_info": {
   "codemirror_mode": {
    "name": "ipython",
    "version": 3
   },
   "file_extension": ".py",
   "mimetype": "text/x-python",
   "name": "python",
   "nbconvert_exporter": "python",
   "pygments_lexer": "ipython3",
   "version": "3.6.5"
  }
 },
 "nbformat": 4,
 "nbformat_minor": 2
}
