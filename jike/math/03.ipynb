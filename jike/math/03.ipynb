{
 "cells": [
  {
   "cell_type": "code",
   "execution_count": null,
   "metadata": {},
   "outputs": [],
   "source": [
    "\"\"\"\n",
    "@Description:算算舍罕王给了多少粒麦子\n",
    "@param grid- 放到第几格\n",
    "@return long- 麦粒的总数\n",
    "\"\"\"\n",
    "def NumberofWheat(grid):\n",
    "    sum=0\n",
    "    NumberofWheatInGrid=1\n",
    "    i=1\n",
    "    while i<=grid:\n",
    "        sum+=NumberofWheatInGrid\n",
    "        NumberofWheatInGrid*=2   \n",
    "        i+=1\n",
    "        \n",
    "    return sum\n",
    "\n",
    "NumberofWheat(63)    "
   ]
  },
  {
   "cell_type": "code",
   "execution_count": null,
   "metadata": {},
   "outputs": [],
   "source": [
    "\"\"\"\n",
    "迭代法有什么具体应用？\n",
    "1 求数值的精确或者近似解（如二分法和牛顿迭代法）\n",
    "2、在一定范围内查找目标值（二分法）\n",
    "3、机器学习算法中的迭代 （K-means,Markov chain,Gradient descent)\n",
    "\n",
    "\"\"\"\n"
   ]
  },
  {
   "cell_type": "code",
   "execution_count": null,
   "metadata": {},
   "outputs": [],
   "source": [
    "\"\"\"\n",
    "@Description :计算大于1的正整数之平方根\n",
    "@param n- 待求的数，deltaThreshold- 误差的阈值，maxTry- 二分查找的最大次数\n",
    "@return 平方根的解\n",
    "\"\"\"\n",
    "def getSquareRoot(n,deltaThreshold,maxTry):\n",
    "    if (n<=1):\n",
    "        return -1.0\n",
    "    min = 1.0\n",
    "    max = n\n",
    "    i = 0\n",
    "    while(i<maxTry):#通过maxTry来控制循环的次数\n",
    "        middle = (min+max)/2\n",
    "        square = middle*middle\n",
    "        delta = abs(square/n-1)\n",
    "        if(delta<=deltaThreshold):\n",
    "            return middle\n",
    "        else:\n",
    "            if square>n:\n",
    "                max=middle\n",
    "            else:\n",
    "                min=middle\n",
    "    return middle\n",
    "getSquareRoot(10,0.000001,10000)\n",
    "    \n",
    "    "
   ]
  },
  {
   "cell_type": "code",
   "execution_count": 2,
   "metadata": {},
   "outputs": [],
   "source": [
    "\"利用二分法查找匹配记录\"\n",
    "\"\"\"\n",
    "@Description:查找某个单词是否在字典里出现\n",
    "@param dictionary-给定的字典，wordToFind- 待查的单词\n",
    "@return boolean - 是否发现待查的单词\n",
    "\"\"\"\n",
    "import operator\n",
    "def search(wordToFind,dictionary=[]):\n",
    "  \n",
    "    if(len(dictionary) == 0):\n",
    "        return False\n",
    "    dictionary.sort()\n",
    "    left = 0\n",
    "    right =len(dictionary)-1\n",
    "    while(left<=right):\n",
    "        mid=left+int((right-left)/2)\n",
    "        if operator.eq(dictionary[mid],wordToFind):\n",
    "            return True\n",
    "        elif operator.gt(dictionary[mid],wordToFind):\n",
    "            right=mid\n",
    "        else:\n",
    "            left=mid\n",
    "    return False\n",
    "    \n"
   ]
  },
  {
   "cell_type": "code",
   "execution_count": null,
   "metadata": {},
   "outputs": [
    {
     "name": "stdout",
     "output_type": "stream",
     "text": [
      "True\n"
     ]
    }
   ],
   "source": [
    "a=['i','am','one','of','the','authors','in','geekbang']\n",
    "print(search('i',a))\n",
    "print(search('happy',a))\n",
    "\n",
    "#search(list,'i')"
   ]
  },
  {
   "cell_type": "code",
   "execution_count": null,
   "metadata": {},
   "outputs": [],
   "source": [
    "b=['e','a','u','o','i']\n",
    "left=0\n",
    "right=len(b)-1\n",
    "print(left<=right)\n",
    "b.sort()\n",
    "print(b)"
   ]
  },
  {
   "cell_type": "code",
   "execution_count": null,
   "metadata": {},
   "outputs": [],
   "source": []
  }
 ],
 "metadata": {
  "kernelspec": {
   "display_name": "Python 3",
   "language": "python",
   "name": "python3"
  },
  "language_info": {
   "codemirror_mode": {
    "name": "ipython",
    "version": 3
   },
   "file_extension": ".py",
   "mimetype": "text/x-python",
   "name": "python",
   "nbconvert_exporter": "python",
   "pygments_lexer": "ipython3",
   "version": "3.6.5"
  }
 },
 "nbformat": 4,
 "nbformat_minor": 2
}
