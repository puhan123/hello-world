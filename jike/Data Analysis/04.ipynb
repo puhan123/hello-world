{
 "cells": [
  {
   "cell_type": "code",
   "execution_count": 11,
   "metadata": {},
   "outputs": [
    {
     "name": "stdout",
     "output_type": "stream",
     "text": [
      "int32\n",
      "(3,)\n",
      "(2, 3)\n"
     ]
    }
   ],
   "source": [
    "#创建数组\n",
    "import numpy as np\n",
    "a=np.array([1,2,3])\n",
    "b=np.array([[1,2,3],[4,5,6]])\n",
    "print(a.dtype)\n",
    "print(a.shape)\n",
    "print(b.shape)"
   ]
  },
  {
   "cell_type": "code",
   "execution_count": 19,
   "metadata": {},
   "outputs": [
    {
     "name": "stdout",
     "output_type": "stream",
     "text": [
      "[32 24]\n",
      "28.0\n"
     ]
    }
   ],
   "source": [
    "#结构数组\n",
    "\"\"\"定义结构类型，结构中的字段占用连续的内存空间，每个结构体占用的内存大小相同\"\"\"\n",
    "import numpy as np\n",
    "persontype = np.dtype({\n",
    "    'names' : ['name','age','chinese','math','english'],\n",
    "    'formats': ['S32','i','i','i','f']\n",
    "})\n",
    "\n",
    "peoples = np.array([(\"ZhangFei\",32,75,100,90),(\"GuanYu\",24,85,96,88.5)],dtype=persontype)\n",
    "ages=peoples[:]['age']\n",
    "print(ages)\n",
    "print(np.mean(ages))"
   ]
  },
  {
   "cell_type": "code",
   "execution_count": 22,
   "metadata": {},
   "outputs": [
    {
     "name": "stdout",
     "output_type": "stream",
     "text": [
      "[b'One day' b'Love you like love life']\n"
     ]
    }
   ],
   "source": [
    "import numpy as np\n",
    "booktype=np.dtype({\n",
    "    'names':['name','author','type'],\n",
    "    'formats':['S32','S32','S32']\n",
    "})\n",
    "books = np.array([(\"One day\",'Jack','love story'),(\"Love you like love life\",'Rose','love story')],dtype = booktype)\n",
    "print(books[:]['name'])"
   ]
  },
  {
   "cell_type": "code",
   "execution_count": 30,
   "metadata": {},
   "outputs": [
    {
     "name": "stdout",
     "output_type": "stream",
     "text": [
      "[1 3 5 7 9]\n",
      "[1. 3. 5. 7. 9.]\n",
      "[ 2.  6. 10. 14. 18.]\n",
      "[0. 0. 0. 0. 0.]\n",
      "[0. 0. 0. 0. 0.]\n"
     ]
    }
   ],
   "source": [
    "#连续数组的创建\n",
    "x1 = np.arange(1,11,2)#指定 初始值、终值、步长 （默认不包括终值）\n",
    "print(x1)\n",
    "x2 = np.linspace(1,9,5)#指定 初始值、终值、元素个数 （默认包括终值）\n",
    "print(x2)\n",
    "\n",
    "#算数运算\n",
    "print(np.add(x1,x2))\n",
    "print(np.subtract(x1,x2))\n",
    "print(np.remainder(x1,x2))\n"
   ]
  },
  {
   "cell_type": "code",
   "execution_count": 35,
   "metadata": {},
   "outputs": [
    {
     "name": "stdout",
     "output_type": "stream",
     "text": [
      "[1, 2, 3]\n",
      "[1, 2, 3]\n"
     ]
    }
   ],
   "source": [
    "#统计函数\n",
    "import numpy as np\n",
    "a = np.array([[1,2,3],[4,5,6],[7,8.9]])\n",
    "print(np.amin(a))\n",
    "print(np.amin(a,0))\n"
   ]
  }
 ],
 "metadata": {
  "kernelspec": {
   "display_name": "Python 3",
   "language": "python",
   "name": "python3"
  },
  "language_info": {
   "codemirror_mode": {
    "name": "ipython",
    "version": 3
   },
   "file_extension": ".py",
   "mimetype": "text/x-python",
   "name": "python",
   "nbconvert_exporter": "python",
   "pygments_lexer": "ipython3",
   "version": "3.6.5"
  }
 },
 "nbformat": 4,
 "nbformat_minor": 2
}
