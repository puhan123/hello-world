{
 "cells": [
  {
   "cell_type": "code",
   "execution_count": null,
   "metadata": {},
   "outputs": [],
   "source": [
    "\"\"\"面向对象编程的四要素：\n",
    "1、类\n",
    "2、属性\n",
    "3、方法\n",
    "4、函数\n",
    "1包含2，3，4\n",
    "4包含2，3\n",
    "\n",
    "类是一群具有相同属性和函数的对象的集合。\n",
    "\n",
    "继承\n",
    "求同存异：既包含父类的特征，又有自己的特征\n",
    "\n",
    "父与子\n",
    "儿子可以使用自己的东西，没有的可以使用父亲的东西\n",
    "D(BC)A\n",
    "\"\"\""
   ]
  },
  {
   "cell_type": "code",
   "execution_count": 15,
   "metadata": {},
   "outputs": [
    {
     "name": "stdout",
     "output_type": "stream",
     "text": [
      "enter D\n",
      "enter B\n",
      "enter C\n",
      "enter A\n",
      "leave A\n",
      "leave C\n",
      "leave B\n",
      "leave D\n"
     ]
    },
    {
     "data": {
      "text/plain": [
       "<__main__.D at 0x1cc607cb358>"
      ]
     },
     "execution_count": 15,
     "metadata": {},
     "output_type": "execute_result"
    }
   ],
   "source": [
    "\"\"\"菱形继承：BC继承A,D继承BC,构造函数的调用次序\"\"\"\n",
    "class A():\n",
    "    def __init__(self):\n",
    "        print(\"enter A\")\n",
    "        print(\"leave A\")\n",
    "class B(A):\n",
    "    def __init__(self):\n",
    "        print(\"enter B\")\n",
    "        #继承类在生成对象的时候，是不会自动调用父类的构造函数的，必须在init()中显式调用父类函数\n",
    "        super().__init__()#用super来召唤父类的构造函数\n",
    "        print(\"leave B\")\n",
    "class C(A):\n",
    "    def __init__(self):\n",
    "        print(\"enter C\")\n",
    "        super().__init__()\n",
    "        print(\"leave C\")\n",
    "class D(B,C):#多重继承\n",
    "    def __init__(self):\n",
    "        print(\"enter D\")\n",
    "        super().__init__()\n",
    "        print(\"leave D\")\n",
    "D()"
   ]
  },
  {
   "cell_type": "code",
   "execution_count": 16,
   "metadata": {},
   "outputs": [
    {
     "name": "stdout",
     "output_type": "stream",
     "text": [
      "init function called\n",
      "Rose Jack\n",
      "None\n",
      "female\n"
     ]
    }
   ],
   "source": [
    "\"\"\"\n",
    "类的构造函数：是在类创建对象时就被自动调用\n",
    "\"\"\"\n",
    "class Student():\n",
    "    def __init__(self,name,sex,age):\n",
    "        print('init function called')\n",
    "        self.name=name\n",
    "        self.sex=sex\n",
    "        self.__age=age#以__开头的为类的私有属性，只能在类内被调用\n",
    "    def get_age(self):\n",
    "        return self.__age\n",
    "    #定义一个类函数\n",
    "    \"\"\"类函数的常见功能是实现不同的构造函数\"\"\"\n",
    "    @classmethod\n",
    "    def creat_nosex_people(cls,name,age):\n",
    "        return cls(name=name,age=age,sex=None)\n",
    "    \n",
    "    \n",
    "#Rose=Student.('Rose Jack','female','100')#创建对象\n",
    "Rose=Student.creat_nosex_people('Rose Jack','female')#创建对象\n",
    "\n",
    "\n",
    "\n",
    "print(Rose.name)\n",
    "print(Rose.sex)\n",
    "print(Rose.get_age())\n",
    "#print(Rose.age)\n",
    "\n",
    "#print(Rose.sex())"
   ]
  },
  {
   "cell_type": "code",
   "execution_count": null,
   "metadata": {},
   "outputs": [],
   "source": [
    "\"\"\"\n",
    "类函数（@classmethod)，成员函数，静态函数(@staticmethod)\n",
    "\"\"\"\n"
   ]
  },
  {
   "cell_type": "code",
   "execution_count": null,
   "metadata": {},
   "outputs": [],
   "source": []
  }
 ],
 "metadata": {
  "kernelspec": {
   "display_name": "Python 3",
   "language": "python",
   "name": "python3"
  },
  "language_info": {
   "codemirror_mode": {
    "name": "ipython",
    "version": 3
   },
   "file_extension": ".py",
   "mimetype": "text/x-python",
   "name": "python",
   "nbconvert_exporter": "python",
   "pygments_lexer": "ipython3",
   "version": "3.6.5"
  }
 },
 "nbformat": 4,
 "nbformat_minor": 2
}
