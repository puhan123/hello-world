{
 "cells": [
  {
   "cell_type": "code",
   "execution_count": null,
   "metadata": {},
   "outputs": [],
   "source": [
    "\"\"\"\n",
    "万物皆对象\n",
    "\n",
    "装饰器的目的：\n",
    "   为什么要使用装饰器？\n",
    "   装饰器是什么？\n",
    "   如何使用装饰器？\n",
    "\"\"\"\n",
    "\n",
    "\"\"\"\n",
    "函数核心回顾：\n",
    "1、把函数赋予变量\n",
    "2、函数也可以当作参数\n",
    "3、函数也可以嵌套\n",
    "4、函数的返回值也可以是函数对象（闭包）\n",
    "\n",
    "\n",
    "（一）装饰器的作用：1、为已经存在的对象添加额外的功能\n",
    "              2、提高了程序的可重复利用性，增加了程序的可读性\n",
    "\n",
    "（二）why:   python的函数能像普通的对象一样作为参数传递给其他函数\n",
    "       。。。上面函数核心回顾的内容\n",
    "       \n",
    "（三）什么是装饰器？\n",
    "     通过装饰器函数，来修改原函数的一些功能，使得原函数不需要修改\n",
    "     \n",
    "（四）应用：\n",
    "\n",
    "      身份认证\n",
    "      日志记录\n",
    "      输入合理性检查\n",
    "      缓存\n",
    "\n",
    "类型：\n",
    "函数作为装饰器\n",
    "类作为装饰器\n",
    "\"\"\""
   ]
  },
  {
   "cell_type": "code",
   "execution_count": 5,
   "metadata": {},
   "outputs": [
    {
     "name": "stdout",
     "output_type": "stream",
     "text": [
      "start a\n",
      "start b\n",
      "start c\n"
     ]
    }
   ],
   "source": [
    "def a():\n",
    "    pass\n",
    "def b():\n",
    "    pass\n",
    "def c():\n",
    "    pass\n",
    "\n",
    "def main():\n",
    "    print(\"start a\")\n",
    "    a()\n",
    "    print(\"start b\")\n",
    "    b()\n",
    "    print(\"start c\")\n",
    "    c()\n",
    "main()"
   ]
  },
  {
   "cell_type": "code",
   "execution_count": 31,
   "metadata": {},
   "outputs": [
    {
     "name": "stdout",
     "output_type": "stream",
     "text": [
      "start<function a at 0x00000198E760D488>\n",
      "a\n",
      "start<function a at 0x00000198E760D488>\n",
      "a\n",
      "start<function a at 0x00000198E760D488>\n",
      "a\n",
      "start<function a at 0x00000198E760D488>\n",
      "a\n",
      "start<function b at 0x00000198E75B2F28>\n",
      "start<function b at 0x00000198E75B2F28>\n",
      "start<function b at 0x00000198E75B2F28>\n",
      "start<function b at 0x00000198E75B2F28>\n",
      "start<function b at 0x00000198E75B2F28>\n",
      "start<function c at 0x00000198E75B8D08>\n",
      "start<function c at 0x00000198E75B8D08>\n",
      "start<function c at 0x00000198E75B8D08>\n",
      "start<function c at 0x00000198E75B8D08>\n",
      "start<function c at 0x00000198E75B8D08>\n",
      "start<function c at 0x00000198E75B8D08>\n"
     ]
    }
   ],
   "source": [
    "\n",
    "import functools\n",
    "\n",
    "#函数既可以当作参数，也可以作为返回值\n",
    "def decorator(arg_of_decorator):\n",
    "    #参数前加一个*，代表函数接受任意多的位置参数；加**代表函数可以接受任意多的关键字参数\n",
    "    def log(fun_c):\n",
    "        @functools.wraps(fun_c)#保留原函数的信息\n",
    "        def wrapper(*args,**kwargs):\n",
    "            for i in range(arg_of_decorator):\n",
    "                print(\"start%s\"%fun_c)\n",
    "                fun_c(*args,**kwargs)\n",
    "        return wrapper\n",
    "    return log\n",
    "# a=decorator(a)\n",
    "# b=decorator(b)\n",
    "# c=decorator(c)\n",
    "@decorator(4)\n",
    "def a(arg):\n",
    "    pass\n",
    "    print(a.__name__)\n",
    "a(1)\n",
    "\n",
    "@decorator(5)\n",
    "def b(arg):\n",
    "    pass\n",
    "b(1)\n",
    "@decorator(6)\n",
    "def c(arg):\n",
    "    pass\n",
    "c(1)\n",
    "\n",
    "\n",
    "# def main():\n",
    "#     a(1)\n",
    "#     b(2)\n",
    "#     c(3)\n",
    "# main()"
   ]
  },
  {
   "cell_type": "code",
   "execution_count": 43,
   "metadata": {},
   "outputs": [
    {
     "name": "stdout",
     "output_type": "stream",
     "text": [
      "num of calls is 1\n",
      "Hello world!\n",
      "None\n",
      "num of calls is 2\n",
      "Hello world!\n",
      "None\n"
     ]
    }
   ],
   "source": [
    "class Count:\n",
    "    def __init__(self,func):\n",
    "        self.num_calls=0\n",
    "        self.func=func\n",
    "    def __call__(self,*args,**kwargs):\n",
    "        self.num_calls+=1#类变量\n",
    "        print(\"num of calls is %d\"%self.num_calls)\n",
    "        print(self.func(*args,**kwargs))\n",
    "@Count\n",
    "def example():\n",
    "    print(\"Hello world!\")\n",
    "example()   \n",
    "example()"
   ]
  },
  {
   "cell_type": "code",
   "execution_count": null,
   "metadata": {},
   "outputs": [],
   "source": []
  }
 ],
 "metadata": {
  "kernelspec": {
   "display_name": "Python 3",
   "language": "python",
   "name": "python3"
  },
  "language_info": {
   "codemirror_mode": {
    "name": "ipython",
    "version": 3
   },
   "file_extension": ".py",
   "mimetype": "text/x-python",
   "name": "python",
   "nbconvert_exporter": "python",
   "pygments_lexer": "ipython3",
   "version": "3.6.5"
  }
 },
 "nbformat": 4,
 "nbformat_minor": 2
}
