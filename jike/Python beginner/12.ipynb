{
 "cells": [
  {
   "cell_type": "code",
   "execution_count": null,
   "metadata": {},
   "outputs": [],
   "source": [
    "\"\"\"\n",
    "main task:面向对象的建模思路\n",
    "1、语料\n",
    "2、倒序索引\n",
    "\n",
    "搜索引擎SE=搜索器+索引器+检索器+用户接口\n",
    "\"\"\""
   ]
  },
  {
   "cell_type": "code",
   "execution_count": null,
   "metadata": {},
   "outputs": [],
   "source": [
    "class SearchEngineBase(object):\n",
    "    def __init__(self):\n",
    "        pass\n",
    "\n",
    "    def add_corpus(self, file_path):\n",
    "        with open(file_path, 'r') as fin:\n",
    "            text = fin.read()\n",
    "        self.process_corpus(file_path, text)\n",
    "\n",
    "    def process_corpus(self, id, text):#索引器\n",
    "        raise Exception('process_corpus not implemented.')\n",
    "\n",
    "    def search(self, query):#检索器\n",
    "        raise Exception('search not implemented.')\n",
    "\n",
    "def main(search_engine):\n",
    "    for file_path in ['1.txt', '2.txt', '3.txt', '4.txt', '5.txt']:#搜索器\n",
    "        search_engine.add_corpus(file_path)\n",
    "\n",
    "    while True:\n",
    "        query = input()#用户接口\n",
    "        results = search_engine.search(query)\n",
    "        print('found {} result(s):'.format(len(results)))\n",
    "        for result in results:\n",
    "            print(result)\n"
   ]
  },
  {
   "cell_type": "code",
   "execution_count": null,
   "metadata": {},
   "outputs": [],
   "source": [
    "class SimpleEngine(SearchEngineBase):\n",
    "    def __init__(self):#__XX__代表python里特殊方法的专用标识\n",
    "        super(SimpleEngine,self).__init__()\n",
    "        self.__id_to_texts={}#初始化私有变量，存储文件名到文件内容\n",
    "    def process_corpus(self,id,text):\n",
    "        self.__id_to_texts[id]=text#把文件内容插入到字典中\n",
    "    def search(self,query):\n",
    "        results=[]\n",
    "        for id,text in self.__id_to_texts.items():#把字典转化为元组形式\n",
    "            if query in text:\n",
    "                results.append(id)\n",
    "            return results\n",
    "search_engine=SimpleEngine()\n",
    "main(search_engine)\n",
    "\n",
    "\"\"\"这时的query只能是一个词或连起来的几个词\"\"\"\n",
    "            "
   ]
  },
  {
   "cell_type": "code",
   "execution_count": null,
   "metadata": {
    "scrolled": true
   },
   "outputs": [],
   "source": [
    "\"\"\"把语料分词，看作一个个的词汇\"\"\"\n",
    "\"\"\"id_to_words只把文本看作一些词汇的集合，不需要考虑顺序\"\"\"\n",
    "import re\n",
    "class Bowengine(SearchEngineBase):\n",
    "    def __init__(self):\n",
    "        self.__id_to_words={}\n",
    "    def process_corpus(self,id,text):\n",
    "        self.__id_to_words[id]=self.parse_text_to_words(text)#把文本打碎成词袋，不考虑顺序\n",
    "    def search(self,query):\n",
    "        results=[]\n",
    "        queryword=self.parse_text_to_words(query)\n",
    "        for id,word in self.__id_to_words.items():\n",
    "            if self.query_match(queryword,word):\n",
    "                results.append(id)\n",
    "            return results\n",
    "            \n",
    "            \n",
    "    @staticmethod\n",
    "    def query_match(queryword,word):\n",
    "        for query_word in queryword:\n",
    "            if query_word in word:\n",
    "                return True\n",
    "            else:\n",
    "                return False\n",
    "        \n",
    "    @staticmethod\n",
    "    def parse_text_to_words(text):\n",
    "        #使用正则表达式去掉标点符号和换行符\n",
    "        text=re.sub(r'[^\\w]',' ',text)\n",
    "        text=text.lower()\n",
    "        word_list=text.split(' ')\n",
    "        word_list=filter(None,word_list)\n",
    "        return set(word_list)\n",
    "search_engine=Bowengine()\n",
    "main(search_engine)\n",
    "        "
   ]
  },
  {
   "cell_type": "code",
   "execution_count": null,
   "metadata": {},
   "outputs": [],
   "source": [
    "\"\"\"面向对象编程是如何把算法复杂性隔离开来，而保留接口和其他代码不变\"\"\"\n",
    "#单词按顺序出现，希望搜索的单词在文中离得近一些\n",
    "#什么是倒序索引，保留的是word->id的字典"
   ]
  },
  {
   "cell_type": "code",
   "execution_count": null,
   "metadata": {},
   "outputs": [],
   "source": [
    "import re"
   ]
  },
  {
   "cell_type": "code",
   "execution_count": null,
   "metadata": {},
   "outputs": [],
   "source": [
    "import re\n",
    "inputStr=\"hello 111 world 222\"\n",
    "replaceStr=re.sub(\"\\d+\",\"333\",inputStr)\n",
    "print(replaceStr)"
   ]
  },
  {
   "cell_type": "code",
   "execution_count": null,
   "metadata": {},
   "outputs": [],
   "source": [
    "inputStr=\"hello crifan,nihao crifan\";\n",
    "replaceStr=re.sub(r\"hello(\\w+),nihao\\1\",\"byby\",inputStr);\n",
    "print(inputStr)\n",
    "print(replaceStr)"
   ]
  },
  {
   "cell_type": "code",
   "execution_count": 1,
   "metadata": {},
   "outputs": [
    {
     "name": "stdout",
     "output_type": "stream",
     "text": [
      "1\n"
     ]
    }
   ],
   "source": [
    "class A:\n",
    "    __a=1\n",
    "class B(A):\n",
    "    pass\n",
    "b=B()\n",
    "print(b._A__a)\n",
    "\"\"\"子类通过 子类实例名._父类名__私有变量名\"\"\"\n"
   ]
  },
  {
   "cell_type": "code",
   "execution_count": null,
   "metadata": {},
   "outputs": [],
   "source": [
    "#迭代开发的流程\n",
    "\"\"\"\n",
    "构建一个通用的基本框架\n",
    "从最简单的情况考虑起，构建一个能运行的极简版本\n",
    "按照实际需要不断对具体的实现过程进行优化\n",
    "\"\"\""
   ]
  }
 ],
 "metadata": {
  "kernelspec": {
   "display_name": "Python 3",
   "language": "python",
   "name": "python3"
  },
  "language_info": {
   "codemirror_mode": {
    "name": "ipython",
    "version": 3
   },
   "file_extension": ".py",
   "mimetype": "text/x-python",
   "name": "python",
   "nbconvert_exporter": "python",
   "pygments_lexer": "ipython3",
   "version": "3.6.5"
  }
 },
 "nbformat": 4,
 "nbformat_minor": 2
}
