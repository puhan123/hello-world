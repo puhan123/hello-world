{
 "cells": [
  {
   "cell_type": "code",
   "execution_count": null,
   "metadata": {},
   "outputs": [],
   "source": [
    "def is_iterable(param):\n",
    "    try:\n",
    "        iter(param)\n",
    "        return True\n",
    "    except TypeError:\n",
    "        return False\n",
    "    \n",
    "params=[\n",
    "    1234,\n",
    "    '1234',\n",
    "    [1,2,3,4],\n",
    "    set([1,2,3,4]),\n",
    "    {1:1,2:2,3:3,4:4},\n",
    "    (1,2,3,4)    \n",
    "]\n",
    "for param in params:\n",
    "    print('{ } is iterable? { }'.format(param,is_iterable(param)))"
   ]
  },
  {
   "cell_type": "code",
   "execution_count": null,
   "metadata": {},
   "outputs": [],
   "source": [
    "def generator(k):\n",
    "    i=1\n",
    "    while True:\n",
    "        yield i**k\n",
    "        i+=1\n",
    "gen_1=generator(1)\n",
    "print(list(gen_1))"
   ]
  },
  {
   "cell_type": "code",
   "execution_count": null,
   "metadata": {},
   "outputs": [],
   "source": [
    "#迭代器，逐个获取元素的过程，就是迭代\n",
    "a_list=[1,2,3]\n",
    "for i in a_list:\n",
    "    print(i)"
   ]
  },
  {
   "cell_type": "code",
   "execution_count": null,
   "metadata": {},
   "outputs": [],
   "source": [
    "def func():\n",
    "    return 1\n",
    "def gen():\n",
    "    yield 1#若一个函数包含yield表达式，那么它是一个生成器函数\n",
    "    \n",
    "print(type(func))#打印函数的类型\n",
    "print(type(gen))\n",
    "print(type(func()))#打印函数的返回值\n",
    "print(type(gen()))"
   ]
  },
  {
   "cell_type": "code",
   "execution_count": null,
   "metadata": {},
   "outputs": [],
   "source": [
    "\"\"\"生成器函数的独特性：其被调用时其函数体内代码不会立即执行，而是返回一个生成器\"\"\"\n",
    "def square():\n",
    "    for x in range(4):\n",
    "        yield x**2\n",
    "square_gen=square()\n",
    "for x in square_gen:\n",
    "    print(x)"
   ]
  },
  {
   "cell_type": "code",
   "execution_count": null,
   "metadata": {},
   "outputs": [],
   "source": [
    "def f123():\n",
    "    yield 1\n",
    "    yield 2\n",
    "    yield 3\n",
    "for item in f123():\n",
    "    print(item)\n",
    "    "
   ]
  },
  {
   "cell_type": "code",
   "execution_count": null,
   "metadata": {},
   "outputs": [],
   "source": [
    "def f13():\n",
    "    yield 1\n",
    "    while False:\n",
    "        yield 2\n",
    "    yield 3\n",
    "for item in f13():\n",
    "    print(item)"
   ]
  },
  {
   "cell_type": "code",
   "execution_count": null,
   "metadata": {},
   "outputs": [],
   "source": [
    "import os\n",
    "import psutil\n",
    "\n",
    "#显示当前python程序占用的内存大小\n",
    "def show_memory_info(hint):\n",
    "    \n",
    "    \"\"\"获得系统信息\"\"\"\n",
    "    \n",
    "    pid=os.getpid()           #获得当前进程id\n",
    "    p=psutil.Process(pid)     #Process类是一个带有pid的进程   psutil是一个跨平台的进程管理\n",
    "    \n",
    "    info=p.memory_full_info()\n",
    "    memory=info.uss/1024./1024\n",
    "    print(\"%s memory used: %d MB \" %(hint,memory))      # %字符：标记转换说明符的开始"
   ]
  },
  {
   "cell_type": "code",
   "execution_count": null,
   "metadata": {},
   "outputs": [],
   "source": [
    "#迭代器\n",
    "def test_iterator():\n",
    "    show_memory_info('initing iterator')\n",
    "    list_1=[i for i in range(100000000)]\n",
    "    show_memory_info('after iterator initiated')\n",
    "    print(sum(list_1))\n",
    "time test_iterator()"
   ]
  },
  {
   "cell_type": "code",
   "execution_count": null,
   "metadata": {},
   "outputs": [],
   "source": [
    "#生成器\n",
    "def test_generator():\n",
    "    show_memory_info('initing iterator')\n",
    "    list_2=(i for i in range(100000000))\n",
    "    show_memory_info('after iterator initiated')\n",
    "    print(sum(list_2))\n"
   ]
  },
  {
   "cell_type": "code",
   "execution_count": null,
   "metadata": {},
   "outputs": [],
   "source": [
    "\"\"\"生成器不会像迭代器一样占用大量内存，只有在被使用的时候才会调用\"\"\"\n",
    "time test_generator()"
   ]
  },
  {
   "cell_type": "code",
   "execution_count": 6,
   "metadata": {},
   "outputs": [
    {
     "name": "stdout",
     "output_type": "stream",
     "text": [
      "<generator object generator at 0x000001A8E63BACA8>\n",
      "<generator object generator at 0x000001A8E62FEEB8>\n",
      "next_1=1,next_3=1\n",
      "next_1=2,next_3=8\n",
      "next_1=3,next_3=27\n",
      "next_1=4,next_3=64\n",
      "next_1=5,next_3=125\n",
      "next_1=6,next_3=216\n",
      "next_1=7,next_3=343\n",
      "next_1=8,next_3=512\n",
      "1296 1296\n"
     ]
    }
   ],
   "source": [
    "\"\"\"\n",
    "generator()函数返回一个生成器\n",
    "yield是关键 ，当函数运行到这一行时，程序会从这里暂停，然后跳出，跳到next() 函数，\n",
    "i**k 是next()函数的返回值\n",
    "\"\"\"\n",
    "def generator(k):\n",
    "    i=1\n",
    "    while True:\n",
    "        yield i**k\n",
    "        i+=1\n",
    "gen_1=generator(1)\n",
    "gen_3=generator(3)\n",
    "\n",
    "print(gen_1)\n",
    "print(gen_3)\n",
    "\n",
    "def get_sum(n):\n",
    "    sum_1,sum_3=0,0\n",
    "    for i in range(n):\n",
    "        next_1=next(gen_1)#只管调用next(),生成器根据运算会自动生成新的元素，返回给你\n",
    "        next_3=next(gen_3)\n",
    "        print('next_1=%d,next_3=%d'%(next_1,next_3))\n",
    "        sum_1+=next_1\n",
    "        sum_3+=next_3\n",
    "    print(sum_1*sum_1,sum_3)\n",
    "\n",
    "get_sum(8)"
   ]
  },
  {
   "cell_type": "code",
   "execution_count": 8,
   "metadata": {},
   "outputs": [
    {
     "name": "stdout",
     "output_type": "stream",
     "text": [
      "[2, 5, 9]\n"
     ]
    }
   ],
   "source": [
    "\"\"\"给定一个list和一个指定数字，求这个数字在list中的位置\"\"\"\n",
    "#用生成器实现\n",
    "def index_normal(L,target):\n",
    "    result=[]\n",
    "    for i,num in enumerate(L):\n",
    "        if num==target:\n",
    "            result.append(i)\n",
    "    return result\n",
    "print(index_normal([1,6,2,4,5,2,8,6,3,2],2))"
   ]
  },
  {
   "cell_type": "code",
   "execution_count": 9,
   "metadata": {},
   "outputs": [
    {
     "name": "stdout",
     "output_type": "stream",
     "text": [
      "[2, 5, 9]\n"
     ]
    }
   ],
   "source": [
    "#用迭代器实现\n",
    "def index_generator(L,target):\n",
    "    for i,num in enumerate(L):\n",
    "        if num==target:\n",
    "            yield i\n",
    "print(list(index_generator([1,6,2,4,5,2,8,6,3,2],2)))"
   ]
  },
  {
   "cell_type": "code",
   "execution_count": 10,
   "metadata": {},
   "outputs": [
    {
     "name": "stdout",
     "output_type": "stream",
     "text": [
      "True\n"
     ]
    }
   ],
   "source": [
    "\"\"\"给定两个序列，判定一个序列是不是另一个的子序列\"\"\"\n",
    "def is_subsequence(a,b):\n",
    "    b=iter(b)#可迭代对象调用iter()函数，可生成迭代器\n",
    "    return all(i in b for i in a)\n",
    "\n",
    "print(is_subsequence([1,3,5],[1,2,3,4,5]))"
   ]
  },
  {
   "cell_type": "code",
   "execution_count": 21,
   "metadata": {},
   "outputs": [
    {
     "name": "stdout",
     "output_type": "stream",
     "text": [
      "<list_iterator object at 0x000001A8E6400DA0>\n",
      "<generator object is_subsequence.<locals>.<genexpr> at 0x000001A8E63F0150>\n",
      "1\n",
      "3\n",
      "5\n",
      "<generator object is_subsequence.<locals>.<genexpr> at 0x000001A8E63F00F8>\n",
      "True\n",
      "True\n",
      "True\n",
      "False\n"
     ]
    }
   ],
   "source": [
    "def is_subsequence(a,b):\n",
    "    b=iter(b)      #把列表b转换成了一个迭代器，可以用next()函数\n",
    "    print(b)\n",
    "    \n",
    "    gen=(i for i in a)  #产生一个生成器，这个生成器可以遍历对象a\n",
    "    print(gen)\n",
    "    \n",
    "    for i in gen:\n",
    "        print(i)\n",
    "    \n",
    "    gen=((i in b) for i in a)\n",
    "    print(gen)\n",
    "    \n",
    "    for i in gen:#把b的迭代器消耗完了，此时的b是一个空的迭代器\n",
    "        print(i)\n",
    "        \n",
    "    return all(((i in b)for i in a))#判定一个迭代器中的元素是否全为True,若是，则返回True\n",
    "print(is_subsequence([1,3,5],[1,2,3,4,5]))"
   ]
  },
  {
   "cell_type": "code",
   "execution_count": 15,
   "metadata": {},
   "outputs": [
    {
     "name": "stdout",
     "output_type": "stream",
     "text": [
      "True\n",
      "False\n",
      "False\n"
     ]
    }
   ],
   "source": [
    "# next()函数运行时，保存了当前指针\n",
    "b=(i for i in range(5))\n",
    "\n",
    "print(3 in b)\n",
    "print(1 in b)\n",
    "print(2 in b)"
   ]
  },
  {
   "cell_type": "code",
   "execution_count": 22,
   "metadata": {},
   "outputs": [
    {
     "name": "stdout",
     "output_type": "stream",
     "text": [
      "[True, True, True]\n"
     ]
    }
   ],
   "source": [
    "\"\"\"\n",
    "生成器在遍历完成后，会得到一个StopIteration的错误\n",
    "而且由于next()函数运行时，保留了当前指针，所以生成器不能遍历多次\n",
    "\"\"\"\n",
    "b=[1,2,3,4,5]\n",
    "a=[1,3,5]\n",
    "gen=((i in b) for i in a)\n",
    "print(list(gen))"
   ]
  },
  {
   "cell_type": "code",
   "execution_count": 27,
   "metadata": {},
   "outputs": [
    {
     "ename": "StopIteration",
     "evalue": "",
     "output_type": "error",
     "traceback": [
      "\u001b[1;31m---------------------------------------------------------------------------\u001b[0m",
      "\u001b[1;31mStopIteration\u001b[0m                             Traceback (most recent call last)",
      "\u001b[1;32m<ipython-input-27-bfc257b95c4f>\u001b[0m in \u001b[0;36m<module>\u001b[1;34m()\u001b[0m\n\u001b[0;32m      3\u001b[0m \u001b[0mnext\u001b[0m\u001b[1;33m(\u001b[0m\u001b[0mgen\u001b[0m\u001b[1;33m)\u001b[0m\u001b[1;33m\u001b[0m\u001b[0m\n\u001b[0;32m      4\u001b[0m \u001b[0mnext\u001b[0m\u001b[1;33m(\u001b[0m\u001b[0mgen\u001b[0m\u001b[1;33m)\u001b[0m\u001b[1;33m\u001b[0m\u001b[0m\n\u001b[1;32m----> 5\u001b[1;33m \u001b[0mnext\u001b[0m\u001b[1;33m(\u001b[0m\u001b[0mgen\u001b[0m\u001b[1;33m)\u001b[0m\u001b[1;33m\u001b[0m\u001b[0m\n\u001b[0m",
      "\u001b[1;31mStopIteration\u001b[0m: "
     ]
    }
   ],
   "source": [
    "gen=(i for i in range(3))\n",
    "next(gen)\n",
    "next(gen)\n",
    "next(gen)\n",
    "next(gen)"
   ]
  }
 ],
 "metadata": {
  "kernelspec": {
   "display_name": "Python 3",
   "language": "python",
   "name": "python3"
  },
  "language_info": {
   "codemirror_mode": {
    "name": "ipython",
    "version": 3
   },
   "file_extension": ".py",
   "mimetype": "text/x-python",
   "name": "python",
   "nbconvert_exporter": "python",
   "pygments_lexer": "ipython3",
   "version": "3.6.5"
  }
 },
 "nbformat": 4,
 "nbformat_minor": 2
}
