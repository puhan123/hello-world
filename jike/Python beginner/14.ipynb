{
 "cells": [
  {
   "cell_type": "code",
   "execution_count": null,
   "metadata": {},
   "outputs": [],
   "source": [
    "\"\"\"\n",
    "1、列表list和元组tuple的内部实现\n",
    "list:\n",
    "list本质上是一个over-allocate的arrays,\n",
    "为了优化存储结构，避免每次增加元素重新分配内存，列表预分配的空间allocated往往大于列表中存储元素的大小\n",
    "\n",
    "tuple:\n",
    "本质上也是一个array,但空间大小固定\n",
    "\n",
    "2、为什么在旧哈希表中，元素会越来越稀疏\n",
    "  旧哈希表是一个over-allocate的array,根据元素键key的哈希值，来计算其应该被插入位置的索引。\n",
    "\n",
    "  在新哈希表中引入了indices来规避这种情况。\n",
    "  \n",
    "  新哈希表的空间利用率，得到了大大的提升。。。\n",
    "\n",
    "3、Python自己判断类型的多态和子类继承的多态是否相同？\n",
    "\n",
    "   多态就是多种形态\n",
    "   \n",
    "4、函数内部不能直接用+=等修改全局变量\n",
    "\"\"\""
   ]
  },
  {
   "cell_type": "code",
   "execution_count": 2,
   "metadata": {},
   "outputs": [
    {
     "name": "stdout",
     "output_type": "stream",
     "text": [
      "5\n"
     ]
    }
   ],
   "source": [
    "e=5\n",
    "try:\n",
    "    1/0\n",
    "except ZeroDivisionError as e:#把异常赋予了一个变量,那么该变量在exceptblock执行结束时被删除\n",
    "    pass\n",
    "print(e)\n",
    "\n",
    "\"\"\"except中异常赋予的变量，在之后的语句中不会再用到 \"\"\""
   ]
  },
  {
   "cell_type": "code",
   "execution_count": 11,
   "metadata": {},
   "outputs": [
    {
     "name": "stdout",
     "output_type": "stream",
     "text": [
      "Hello world!pu yang.\n"
     ]
    }
   ],
   "source": [
    "\"\"\"\n",
    "当全局变量指向的对象不可变时，比如整型、字符串等，\n",
    "若你要在函数内部改变它的值，必须要加global关键字\n",
    "\"\"\"\n",
    "#x=5\n",
    "x=\"Hello world!\"\n",
    "y=\"pu yang.\"\n",
    "def func():\n",
    "    global x#程序默认x是局部变量\n",
    "    global y\n",
    "   # x+=1#赋值之前必须要引用\n",
    "    x=x+y\n",
    "    \n",
    "func()\n",
    "print(x)\n"
   ]
  },
  {
   "cell_type": "code",
   "execution_count": 15,
   "metadata": {},
   "outputs": [
    {
     "name": "stdout",
     "output_type": "stream",
     "text": [
      "{'shutian': '15', 'puhan': '16', 'jiba': '11'}\n"
     ]
    }
   ],
   "source": [
    "\"\"\"全局变量可变时，在函数内部可修改\"\"\"\n",
    "#x=[1]\n",
    "x={\"shutian\":\"15\",\"puhan\":\"16\"}\n",
    "\n",
    "def func1():\n",
    "    #x.append(2)\n",
    "    x[\"jiba\"]=\"11\"\n",
    "func1()\n",
    "print(x)"
   ]
  }
 ],
 "metadata": {
  "kernelspec": {
   "display_name": "Python 3",
   "language": "python",
   "name": "python3"
  },
  "language_info": {
   "codemirror_mode": {
    "name": "ipython",
    "version": 3
   },
   "file_extension": ".py",
   "mimetype": "text/x-python",
   "name": "python",
   "nbconvert_exporter": "python",
   "pygments_lexer": "ipython3",
   "version": "3.6.5"
  }
 },
 "nbformat": 4,
 "nbformat_minor": 2
}
