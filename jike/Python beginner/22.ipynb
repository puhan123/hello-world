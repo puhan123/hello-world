{
 "cells": [
  {
   "cell_type": "code",
   "execution_count": 1,
   "metadata": {},
   "outputs": [
    {
     "name": "stdout",
     "output_type": "stream",
     "text": [
      "333333283333335000000\n",
      "333333383333335000000\n",
      "333333483333355000001\n",
      "333333583333395000005\n",
      "333333683333455000014\n",
      "333333783333535000030\n",
      "333333883333635000055\n",
      "333333983333755000091\n",
      "333334083333895000140\n",
      "333334183334055000204\n",
      "333334283334235000285\n",
      "333334383334435000385\n",
      "333334483334655000506\n",
      "333334583334895000650\n",
      "333334683335155000819\n",
      "333334783335435001015\n",
      "333334883335735001240\n",
      "333334983336055001496\n",
      "333335083336395001785\n",
      "333335183336755002109\n",
      "Calculation takes 24.02874982441725 seconds\n"
     ]
    }
   ],
   "source": [
    "#常规版本\n",
    "import time\n",
    "\n",
    "def cpu_bound(number):\n",
    "    print(sum(i * i for i in range(number)))\n",
    "\n",
    "def calculate_sums(numbers):\n",
    "    for number in numbers:\n",
    "        cpu_bound(number)\n",
    "\n",
    "def main():\n",
    "    start_time = time.perf_counter()  \n",
    "    numbers = [10000000 + x for x in range(20)]\n",
    "    calculate_sums(numbers)\n",
    "    end_time = time.perf_counter()\n",
    "    print('Calculation takes {} seconds'.format(end_time - start_time))\n",
    "    \n",
    "if __name__ == '__main__':\n",
    "    main()\n"
   ]
  },
  {
   "cell_type": "code",
   "execution_count": 4,
   "metadata": {},
   "outputs": [
    {
     "name": "stdout",
     "output_type": "stream",
     "text": [
      "333333383333335000000\n",
      "333333683333455000014\n",
      "333333483333355000001\n",
      "333333283333335000000\n",
      "333333783333535000030\n",
      "333333583333395000005\n",
      "333334183334055000204\n",
      "333333883333635000055333333983333755000091\n",
      "\n",
      "333334083333895000140\n",
      "333334283334235000285\n",
      "333334383334435000385\n",
      "333334883335735001240\n",
      "333334583334895000650\n",
      "333334483334655000506\n",
      "333334683335155000819\n",
      "333334983336055001496\n",
      "333334783335435001015\n",
      "333335083336395001785\n",
      "333335183336755002109\n",
      "Calculation takes 51.66404824764754 seconds\n"
     ]
    }
   ],
   "source": [
    "#多线程版本\n",
    "\n",
    "import time\n",
    "import concurrent.futures\n",
    "\n",
    "\n",
    "def cpu_bound(number):\n",
    "    print(sum(i * i for i in range(number)))\n",
    "\n",
    "def calculate_sums(numbers):\n",
    "    with concurrent.futures.ThreadPoolExecutor(max_workers=5) as executor:\n",
    "        executor.map(cpu_bound,numbers)\n",
    "        \n",
    "def main():\n",
    "    start_time = time.perf_counter()  \n",
    "    numbers = [10000000 + x for x in range(20)]\n",
    "    calculate_sums(numbers)\n",
    "    end_time = time.perf_counter()\n",
    "    print('Calculation takes {} seconds'.format(end_time - start_time))\n",
    "    \n",
    "if __name__ == '__main__':\n",
    "    main()\n",
    "#为什么多线程的时间反而长呢"
   ]
  },
  {
   "cell_type": "code",
   "execution_count": 3,
   "metadata": {},
   "outputs": [
    {
     "name": "stdout",
     "output_type": "stream",
     "text": [
      "Calculation takes 0.4595933870036788 seconds\n"
     ]
    }
   ],
   "source": [
    "#多进程版本\n",
    "\n",
    "import time\n",
    "import concurrent.futures\n",
    "\n",
    "\n",
    "def cpu_bound(number):\n",
    "    print(sum(i * i for i in range(number)))\n",
    "\n",
    "def calculate_sums(numbers):\n",
    "    with concurrent.futures.ProcessPoolExecutor() as executor:#创建进程池\n",
    "        executor.map(cpu_bound,numbers)#对numbers中的每一个元素，都调用cpu_bound\n",
    "            \n",
    "      \n",
    "\n",
    "def main():\n",
    "    start_time = time.perf_counter()  \n",
    "    numbers = [10000000 + x for x in range(20)]\n",
    "    calculate_sums(numbers)\n",
    "    end_time = time.perf_counter()\n",
    "    print('Calculation takes {} seconds'.format(end_time - start_time))\n",
    "    \n",
    "if __name__ == '__main__':\n",
    "    main()\n"
   ]
  },
  {
   "cell_type": "code",
   "execution_count": 7,
   "metadata": {},
   "outputs": [
    {
     "name": "stdout",
     "output_type": "stream",
     "text": [
      "333333583333395000005\n",
      "333333483333355000001\n",
      "333333283333335000000\n",
      "333333683333455000014\n",
      "333333383333335000000\n",
      "333333783333535000030\n",
      "333334283334235000285\n",
      "333333883333635000055\n",
      "333334083333895000140\n",
      "333333983333755000091333334183334055000204\n",
      "\n",
      "333334383334435000385\n",
      "333334483334655000506\n",
      "333334883335735001240\n",
      "333334583334895000650\n",
      "333334683335155000819\n",
      "333334783335435001015\n",
      "333335083336395001785\n",
      "333334983336055001496\n",
      "333335183336755002109\n",
      "Calculation takes 53.88710828184617 seconds\n"
     ]
    }
   ],
   "source": [
    "#并发编程之Futures版本\n",
    "import time\n",
    "import concurrent.futures\n",
    "import requests\n",
    "\n",
    "def cpu_bound(number):\n",
    "    print(sum(i * i for i in range(number)))\n",
    "\n",
    "def calculate_sums(numbers):\n",
    "    with concurrent.futures.ThreadPoolExecutor(max_workers=5) as executor:\n",
    "        to_do=[]\n",
    "        for number in numbers:\n",
    "            future = executor.submit(cpu_bound,number)#把cpu_bound的执行结果，返回创建好的future实例\n",
    "            to_do.append(future)\n",
    "            \n",
    "        for future in concurrent.futures.as_completed(to_do):\n",
    "            future.result()\n",
    "\n",
    "def main():\n",
    "    start_time = time.perf_counter()  \n",
    "    numbers = [10000000 + x for x in range(20)]\n",
    "    calculate_sums(numbers)\n",
    "    end_time = time.perf_counter()\n",
    "    print('Calculation takes {} seconds'.format(end_time - start_time))\n",
    "    \n",
    "if __name__ == '__main__':\n",
    "    main()"
   ]
  },
  {
   "cell_type": "code",
   "execution_count": 9,
   "metadata": {},
   "outputs": [
    {
     "ename": "AttributeError",
     "evalue": "module 'asyncio' has no attribute 'run'",
     "output_type": "error",
     "traceback": [
      "\u001b[1;31m---------------------------------------------------------------------------\u001b[0m",
      "\u001b[1;31mAttributeError\u001b[0m                            Traceback (most recent call last)",
      "\u001b[1;32m<ipython-input-9-12c0082133f8>\u001b[0m in \u001b[0;36m<module>\u001b[1;34m()\u001b[0m\n\u001b[0;32m     23\u001b[0m \u001b[1;33m\u001b[0m\u001b[0m\n\u001b[0;32m     24\u001b[0m \u001b[1;32mif\u001b[0m \u001b[0m__name__\u001b[0m \u001b[1;33m==\u001b[0m \u001b[1;34m'__main__'\u001b[0m\u001b[1;33m:\u001b[0m\u001b[1;33m\u001b[0m\u001b[0m\n\u001b[1;32m---> 25\u001b[1;33m     \u001b[0mmain\u001b[0m\u001b[1;33m(\u001b[0m\u001b[1;33m)\u001b[0m\u001b[1;33m\u001b[0m\u001b[0m\n\u001b[0m",
      "\u001b[1;32m<ipython-input-9-12c0082133f8>\u001b[0m in \u001b[0;36mmain\u001b[1;34m()\u001b[0m\n\u001b[0;32m     18\u001b[0m     \u001b[0mstart_time\u001b[0m \u001b[1;33m=\u001b[0m \u001b[0mtime\u001b[0m\u001b[1;33m.\u001b[0m\u001b[0mperf_counter\u001b[0m\u001b[1;33m(\u001b[0m\u001b[1;33m)\u001b[0m\u001b[1;33m\u001b[0m\u001b[0m\n\u001b[0;32m     19\u001b[0m     \u001b[0mnumbers\u001b[0m \u001b[1;33m=\u001b[0m \u001b[1;33m[\u001b[0m\u001b[1;36m10000000\u001b[0m \u001b[1;33m+\u001b[0m \u001b[0mx\u001b[0m \u001b[1;32mfor\u001b[0m \u001b[0mx\u001b[0m \u001b[1;32min\u001b[0m \u001b[0mrange\u001b[0m\u001b[1;33m(\u001b[0m\u001b[1;36m20\u001b[0m\u001b[1;33m)\u001b[0m\u001b[1;33m]\u001b[0m\u001b[1;33m\u001b[0m\u001b[0m\n\u001b[1;32m---> 20\u001b[1;33m     \u001b[0masyncio\u001b[0m\u001b[1;33m.\u001b[0m\u001b[0mrun\u001b[0m\u001b[1;33m(\u001b[0m\u001b[0mcalculate_sums\u001b[0m\u001b[1;33m(\u001b[0m\u001b[0mnumbers\u001b[0m\u001b[1;33m)\u001b[0m\u001b[1;33m)\u001b[0m\u001b[1;33m\u001b[0m\u001b[0m\n\u001b[0m\u001b[0;32m     21\u001b[0m     \u001b[0mend_time\u001b[0m \u001b[1;33m=\u001b[0m \u001b[0mtime\u001b[0m\u001b[1;33m.\u001b[0m\u001b[0mperf_counter\u001b[0m\u001b[1;33m(\u001b[0m\u001b[1;33m)\u001b[0m\u001b[1;33m\u001b[0m\u001b[0m\n\u001b[0;32m     22\u001b[0m     \u001b[0mprint\u001b[0m\u001b[1;33m(\u001b[0m\u001b[1;34m'Calculation takes {} seconds'\u001b[0m\u001b[1;33m.\u001b[0m\u001b[0mformat\u001b[0m\u001b[1;33m(\u001b[0m\u001b[0mend_time\u001b[0m \u001b[1;33m-\u001b[0m \u001b[0mstart_time\u001b[0m\u001b[1;33m)\u001b[0m\u001b[1;33m)\u001b[0m\u001b[1;33m\u001b[0m\u001b[0m\n",
      "\u001b[1;31mAttributeError\u001b[0m: module 'asyncio' has no attribute 'run'"
     ]
    }
   ],
   "source": [
    "#Asyncio版本\n",
    "#常规版本\n",
    "\n",
    "import asyncio\n",
    "import aiohttp\n",
    "import time\n",
    "\n",
    "async def cpu_bound(number):\n",
    "    async with aiohttp.ClientSession( ) as session:\n",
    "        print(sum(i * i for i in range(number)))\n",
    "\n",
    "async def calculate_sums(numbers):\n",
    "    tasks=[asyncio.creat_task(cpu_bound(number)) for number in numbers]\n",
    "    await asyncio.gather(*tasks)\n",
    "        \n",
    "\n",
    "def main():\n",
    "    start_time = time.perf_counter()  \n",
    "    numbers = [10000000 + x for x in range(20)]\n",
    "    asyncio.run(calculate_sums(numbers))\n",
    "    end_time = time.perf_counter()\n",
    "    print('Calculation takes {} seconds'.format(end_time - start_time))\n",
    "    \n",
    "if __name__ == '__main__':\n",
    "    main()"
   ]
  }
 ],
 "metadata": {
  "kernelspec": {
   "display_name": "Python 3",
   "language": "python",
   "name": "python3"
  },
  "language_info": {
   "codemirror_mode": {
    "name": "ipython",
    "version": 3
   },
   "file_extension": ".py",
   "mimetype": "text/x-python",
   "name": "python",
   "nbconvert_exporter": "python",
   "pygments_lexer": "ipython3",
   "version": "3.6.5"
  }
 },
 "nbformat": 4,
 "nbformat_minor": 2
}
