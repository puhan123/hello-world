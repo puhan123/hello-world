{
 "cells": [
  {
   "cell_type": "code",
   "execution_count": null,
   "metadata": {},
   "outputs": [],
   "source": [
    "\"\"\"\n",
    "Python的参数是如何传递的\n",
    "值传递和引用传递\n",
    "\n",
    "值传递：拷贝参数的值，传递给函数里的新变量\n",
    "\n",
    "引用传递：把参数的引用传给新的变量，原变量和新变量就指向同一块内存地址，\n",
    "          若改变其中一个变量的值，另一个也会改变\n",
    "\n",
    "\"\"\"\n"
   ]
  },
  {
   "cell_type": "code",
   "execution_count": null,
   "metadata": {},
   "outputs": [],
   "source": [
    "\"\"\"\n",
    "1、变量的赋值：只是表示让变量指向了某个对象，一个对象可以被多个变量指向\n",
    "\"\"\""
   ]
  },
  {
   "cell_type": "code",
   "execution_count": 13,
   "metadata": {},
   "outputs": [
    {
     "name": "stdout",
     "output_type": "stream",
     "text": [
      "1859939392\n",
      "1859939392\n",
      "1\n",
      "1859939424\n"
     ]
    }
   ],
   "source": [
    "#整型（int)、字符串（string)是不可变的\n",
    "a=1\n",
    "b=a#没有重新创建对象\n",
    "print(id(a))\n",
    "print(id(b))\n",
    "#重新创建了一个对象，并让a指向它，并不是让a的值加1，\n",
    "a=a+1\n",
    "print(b)\n",
    "print(id(a))"
   ]
  },
  {
   "cell_type": "code",
   "execution_count": 11,
   "metadata": {},
   "outputs": [
    {
     "name": "stdout",
     "output_type": "stream",
     "text": [
      "1760499293384\n",
      "1760499293384\n",
      "[1, 2, 3, 4]\n",
      "1760499473224\n"
     ]
    }
   ],
   "source": [
    "\"\"\"\n",
    "可变对象（列表、字典、集合）的修改，会影响所有指向该对象的变量\n",
    "\n",
    "\"\"\"\n",
    "l1=[1,2,3]\n",
    "l2=l1\n",
    "\n",
    "print(id(l1))\n",
    "print(id(l2))\n",
    "l1.append(4)#列表是可变的，所以不会创建新的列表，只是在原列表的基础上加了4\n",
    "print(l2)\n",
    "\n",
    "l=[1,2,3]\n",
    "del l\n",
    "#print(l)\n",
    "print(id([1,2,3]))#变量可以删除，但对象无法被删除"
   ]
  },
  {
   "cell_type": "code",
   "execution_count": 21,
   "metadata": {},
   "outputs": [
    {
     "name": "stdout",
     "output_type": "stream",
     "text": [
      "[1, 4]\n"
     ]
    }
   ],
   "source": [
    "\"\"\"\n",
    "Python函数的参数传递=赋值传递\n",
    "赋值传递-->对象的传递-->1、若对象是可变的，当其改变时，所有指向该对象的变量都会变\n",
    "\n",
    "                        2、若对象不可变，一个变量的改变不影响其它变量\n",
    "\"\"\"\n",
    "def my_func1(b):\n",
    "    b=b+[4]\n",
    "    return b\n",
    "    \n",
    "a=[1]\n",
    "a=my_func1(a)\n",
    "print(a)"
   ]
  },
  {
   "cell_type": "code",
   "execution_count": null,
   "metadata": {},
   "outputs": [],
   "source": [
    "void swap(int a,int b){\n",
    "    int temp;\n",
    "    temp=a;\n",
    "    a=b;\n",
    "    b=temp;\n",
    "    return ;\n",
    "}\n"
   ]
  },
  {
   "cell_type": "code",
   "execution_count": 23,
   "metadata": {},
   "outputs": [
    {
     "name": "stdout",
     "output_type": "stream",
     "text": [
      "1760499471944\n",
      "1760499292808\n",
      "1760499292808\n"
     ]
    }
   ],
   "source": [
    "#l1和l2不同，l2和l3相同\n",
    "\"\"\"\n",
    "列表是可变对象，每创建一个列表，都会重新分配内存\n",
    "\"\"\"\n",
    "l1=[1,2,3]\n",
    "l2=[1,2,3]\n",
    "print(id(l1))\n",
    "print(id(l2))\n",
    "l3=l2\n",
    "print(id(l3))"
   ]
  },
  {
   "cell_type": "code",
   "execution_count": 33,
   "metadata": {},
   "outputs": [
    {
     "name": "stdout",
     "output_type": "stream",
     "text": [
      "1859939392\n",
      "1859939392\n"
     ]
    }
   ],
   "source": [
    "a=1\n",
    "b=1\n",
    "print(id(a))\n",
    "print(id(b))"
   ]
  },
  {
   "cell_type": "code",
   "execution_count": 35,
   "metadata": {},
   "outputs": [
    {
     "name": "stdout",
     "output_type": "stream",
     "text": [
      "{'a': 10, 'b': 20}\n"
     ]
    }
   ],
   "source": [
    "\n",
    "def func(d):\n",
    "    d['a'] = 10\n",
    "    d['b'] = 20\n",
    "    d = {'a': 1, 'b': 2}\n",
    "#字典是可变对象\n",
    "d={}\n",
    "func(d)\n",
    "print(d)\n"
   ]
  }
 ],
 "metadata": {
  "kernelspec": {
   "display_name": "Python 3",
   "language": "python",
   "name": "python3"
  },
  "language_info": {
   "codemirror_mode": {
    "name": "ipython",
    "version": 3
   },
   "file_extension": ".py",
   "mimetype": "text/x-python",
   "name": "python",
   "nbconvert_exporter": "python",
   "pygments_lexer": "ipython3",
   "version": "3.6.5"
  }
 },
 "nbformat": 4,
 "nbformat_minor": 2
}
