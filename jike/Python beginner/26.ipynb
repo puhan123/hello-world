{
 "cells": [
  {
   "cell_type": "code",
   "execution_count": 4,
   "metadata": {},
   "outputs": [
    {
     "name": "stdout",
     "output_type": "stream",
     "text": [
      "True\n",
      "True\n"
     ]
    }
   ],
   "source": [
    "x = 27\n",
    "y = 27\n",
    "print(x==y)\n",
    "print(x is y)"
   ]
  },
  {
   "cell_type": "code",
   "execution_count": 3,
   "metadata": {},
   "outputs": [
    {
     "name": "stdout",
     "output_type": "stream",
     "text": [
      "True\n",
      "False\n"
     ]
    }
   ],
   "source": [
    "x = 721\n",
    "y = 721\n",
    "print(x ==y)\n",
    "print(x is y)#is比较的是内存地址"
   ]
  },
  {
   "cell_type": "code",
   "execution_count": 5,
   "metadata": {},
   "outputs": [
    {
     "ename": "NameError",
     "evalue": "name 'MyObject' is not defined",
     "output_type": "error",
     "traceback": [
      "\u001b[1;31m---------------------------------------------------------------------------\u001b[0m",
      "\u001b[1;31mNameError\u001b[0m                                 Traceback (most recent call last)",
      "\u001b[1;32m<ipython-input-5-9a15612e0d14>\u001b[0m in \u001b[0;36m<module>\u001b[1;34m()\u001b[0m\n\u001b[1;32m----> 1\u001b[1;33m \u001b[0mx\u001b[0m\u001b[1;33m=\u001b[0m\u001b[0mMyObject\u001b[0m\u001b[1;33m(\u001b[0m\u001b[1;33m)\u001b[0m\u001b[1;33m\u001b[0m\u001b[0m\n\u001b[0m\u001b[0;32m      2\u001b[0m \u001b[0mprint\u001b[0m\u001b[1;33m(\u001b[0m\u001b[0mx\u001b[0m\u001b[1;33m==\u001b[0m\u001b[1;32mNone\u001b[0m\u001b[1;33m)\u001b[0m\u001b[1;33m\u001b[0m\u001b[0m\n",
      "\u001b[1;31mNameError\u001b[0m: name 'MyObject' is not defined"
     ]
    }
   ],
   "source": [
    "x = MyObject()\n",
    "print(x==None)"
   ]
  },
  {
   "cell_type": "code",
   "execution_count": 8,
   "metadata": {},
   "outputs": [
    {
     "name": "stdout",
     "output_type": "stream",
     "text": [
      "Andrew is compensated None dollars\n"
     ]
    }
   ],
   "source": [
    "def pay(name,salary=None):\n",
    "    if salary is not None:\n",
    "        salary = 11\n",
    "    print(name,'is compensated',salary,\"dollars\")\n",
    "pay(\"Andrew\")"
   ]
  },
  {
   "cell_type": "code",
   "execution_count": 13,
   "metadata": {},
   "outputs": [
    {
     "name": "stdout",
     "output_type": "stream",
     "text": [
      "6.0305516719818115\n"
     ]
    }
   ],
   "source": [
    "\"单线程执行花费时间\"\n",
    "import time\n",
    "def CountDown(n):\n",
    "    while n>0:\n",
    "        n-=1\n",
    "start = time.time()\n",
    "CountDown(100000000)\n",
    "end = time.time()\n",
    "print(end-start)"
   ]
  },
  {
   "cell_type": "code",
   "execution_count": 14,
   "metadata": {},
   "outputs": [
    {
     "name": "stdout",
     "output_type": "stream",
     "text": [
      "8.233291864395142\n"
     ]
    }
   ],
   "source": [
    "\"2个线程的执行结果\"\n",
    "from threading import Thread\n",
    "\n",
    "n = 100000000\n",
    "\n",
    "start = time.time()\n",
    "\n",
    "t1 = Thread(target= CountDown,args=[n//2])\n",
    "t2 = Thread(target= CountDown,args=[n//2])\n",
    "t1.start()\n",
    "t2.start()\n",
    "t1.join()\n",
    "t2.join()\n",
    "\n",
    "end = time.time()\n",
    "print(end-start)"
   ]
  },
  {
   "cell_type": "markdown",
   "metadata": {},
   "source": [
    "GIL,全局解释器锁，\n",
    "CPython引进GIL的主要原因：\n",
    "1、设计者为了规避类似于内存管理这样复杂的竞争风险问题（race condition)\n",
    "2、CPython大量使用C语言库，但大部分C语言库都不是原生线程安全的（线程安全会降低性能，增加复杂度）\n",
    "\n",
    "GIL的工作原理：\n",
    "每一个线程在开始执行时，都会锁住GIL,以防止别的线程执行；\n",
    "每一个线程执行完毕后，会释放GIL，以允许别的线程开始利用资源（因为有check_interval的存在）\n",
    "\n",
    "check_interval:CPython解释器会去轮询检查线程GIL的锁住情况"
   ]
  },
  {
   "cell_type": "code",
   "execution_count": 15,
   "metadata": {},
   "outputs": [
    {
     "data": {
      "text/plain": [
       "3"
      ]
     },
     "execution_count": 15,
     "metadata": {},
     "output_type": "execute_result"
    }
   ],
   "source": [
    "import sys\n",
    "a=[]\n",
    "b=a\n",
    "sys.getrefcount(a)"
   ]
  },
  {
   "cell_type": "code",
   "execution_count": null,
   "metadata": {},
   "outputs": [],
   "source": [
    "\"Python的线程安全\"\n"
   ]
  }
 ],
 "metadata": {
  "kernelspec": {
   "display_name": "Python 3",
   "language": "python",
   "name": "python3"
  },
  "language_info": {
   "codemirror_mode": {
    "name": "ipython",
    "version": 3
   },
   "file_extension": ".py",
   "mimetype": "text/x-python",
   "name": "python",
   "nbconvert_exporter": "python",
   "pygments_lexer": "ipython3",
   "version": "3.6.5"
  }
 },
 "nbformat": 4,
 "nbformat_minor": 2
}
