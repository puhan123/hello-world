{
 "cells": [
  {
   "cell_type": "code",
   "execution_count": null,
   "metadata": {},
   "outputs": [],
   "source": [
    "\"\"\"\n",
    "1、深拷贝（deep copy)VS 浅拷贝（shallow copy)\n",
    " 浅拷贝：重新分配一块内存，创建一个新的对象，里面的元素是原对象子对象的引用(所以原对象已有元素的改变会影响拷贝对象的元素)\n",
    " \n",
    " 深度拷贝：重新分配一块内存，创建一个新的对象，并且把原对象中的元素，以递归的方式，通过\n",
    "           创建新的子对象拷贝到新对象中，so原对象与新对象没有任何关联\n",
    " \n",
    "2、\n",
    "\n",
    "\"==\" VS \"is\"\n",
    "\"==\"关注的是两个值是否相等\n",
    "\"is\"关注的是两个值的内存地址是否相等\n",
    "\n",
    "\"is\"的效率高于\"==\",因为is只用比较两个对象的ID，而\"==\"需要遍历对象的所有值是否相等，需要一一比较\n",
    "\n",
    "\"\"\""
   ]
  },
  {
   "cell_type": "code",
   "execution_count": 30,
   "metadata": {},
   "outputs": [
    {
     "name": "stdout",
     "output_type": "stream",
     "text": [
      "True\n",
      "False\n",
      "[1, 2, 3]\n"
     ]
    }
   ],
   "source": [
    "\"\"\"Python对象的比较、拷贝\"\"\"\n",
    "l1=[1,2,3]\n",
    "l2=list(l1)\n",
    "print(l1==l2)\n",
    "print(l1 is l2)\n",
    "print(l2)\n"
   ]
  },
  {
   "cell_type": "code",
   "execution_count": 18,
   "metadata": {},
   "outputs": [
    {
     "name": "stdout",
     "output_type": "stream",
     "text": [
      "2338261722224\n",
      "2338261722224\n",
      "\n",
      "\n"
     ]
    },
    {
     "data": {
      "text/plain": [
       "True"
      ]
     },
     "execution_count": 18,
     "metadata": {},
     "output_type": "execute_result"
    }
   ],
   "source": [
    "a=5\n",
    "#b=a\n",
    "b=5\n",
    "print(id(a))# is 比较对象之间的ID是否相等（身份标识），这个id指的是内存区域吗？\n",
    "print(id(b))\n",
    "print(a==b)\n",
    "print(\"\\n\")\n",
    "print(a is b)"
   ]
  },
  {
   "cell_type": "code",
   "execution_count": 23,
   "metadata": {},
   "outputs": [
    {
     "name": "stdout",
     "output_type": "stream",
     "text": [
      "2338261722288\n",
      "2338261722544\n",
      "False\n"
     ]
    }
   ],
   "source": [
    "\"\"\"\n",
    "Python内部会对-5到256的整型维持一个数组，起到缓存的作用\n",
    "超过这个范围，就会开辟两个内存区域\n",
    "\"\"\"\n",
    "\n",
    "a=257\n",
    "b=257\n",
    "print(id(a))\n",
    "print(id(b))\n",
    "print(a is b)"
   ]
  },
  {
   "cell_type": "code",
   "execution_count": null,
   "metadata": {},
   "outputs": [],
   "source": [
    "\"\"\"\n",
    "is和'=='的执行效率的情况:\n",
    " is的速度效率通常优于'==',因为'is'操作符不能被重载？这个重载指的是什么？\n",
    "\"\"\""
   ]
  },
  {
   "cell_type": "code",
   "execution_count": 29,
   "metadata": {},
   "outputs": [
    {
     "name": "stdout",
     "output_type": "stream",
     "text": [
      "True\n",
      "[3, 4]\n",
      "(1, 2, [3, 4, 5])\n",
      "False\n"
     ]
    }
   ],
   "source": [
    "\"\"\"元组是不可变的，但元组可以嵌套，其内部元素可以是列表，而列表是可变的\"\"\"\n",
    "t1=(1,2,[3,4])\n",
    "t2=(1,2,[3,4])\n",
    "print(t1==t2)\n",
    "print(t1[-1])\n",
    "#修改元组中的某个元素\n",
    "t1[-1].append(5)\n",
    "print(t1)\n",
    "print(t1==t2)\n"
   ]
  },
  {
   "cell_type": "code",
   "execution_count": 34,
   "metadata": {},
   "outputs": [
    {
     "name": "stdout",
     "output_type": "stream",
     "text": [
      "True\n",
      "False\n"
     ]
    }
   ],
   "source": [
    "\"\"\"浅拷贝的a,b的ID不同，深拷贝的a,b的ID相同\"\"\"\n",
    "l1=[1,2,3]\n",
    "#l2=list(l1)\n",
    "l2=l1[:]#':'为切片操作符\n",
    "print(l1==l2)\n",
    "print(l1 is l2)"
   ]
  },
  {
   "cell_type": "code",
   "execution_count": 35,
   "metadata": {},
   "outputs": [
    {
     "name": "stdout",
     "output_type": "stream",
     "text": [
      "True\n"
     ]
    }
   ],
   "source": [
    "l1=(1,2,3)#元组只被创建一次，l1和l2同时指向这个元组\n",
    "l2=l1[:]\n",
    "print(l1 is l2)"
   ]
  },
  {
   "cell_type": "code",
   "execution_count": 46,
   "metadata": {},
   "outputs": [
    {
     "name": "stdout",
     "output_type": "stream",
     "text": [
      "[1, 2]\n",
      "[[1, 2, 3], [30, 40, [50, 60]], 100]\n",
      "[[1, 2, 3], [30, 40, [50, 60]]]\n"
     ]
    }
   ],
   "source": [
    "\"\"\"若对l1的列表新增元素，不会对l2有任何影响，因为两者不共享内存地址\n",
    "  而对l1的第一个列表改变时，则l2也会改变，因为二者指向同一个列表\n",
    "\"\"\"\n",
    "l1=[[1,2],[30,40]]\n",
    "l2=list(l1)\n",
    "print(l1[0])\n",
    "l1[0].append(3)\n",
    "l1.append(100)\n",
    "l1[1].append([50,60])\n",
    "print(l1)\n",
    "print(l2)"
   ]
  },
  {
   "cell_type": "code",
   "execution_count": 57,
   "metadata": {},
   "outputs": [
    {
     "name": "stdout",
     "output_type": "stream",
     "text": [
      "[[1, 2], (3, 4), 200]\n",
      "[[1, 2], (3, 4)]\n",
      "[[1, 2, 3], (3, 4), 200]\n",
      "[[1, 2], (3, 4)]\n",
      "[[1, 2, 3], (3, 4, 5, 6), 200]\n",
      "[[1, 2], (3, 4)]\n"
     ]
    }
   ],
   "source": [
    "\"\"\"深拷贝\n",
    "无论l1如何变化，l2不变\n",
    "\"\"\"\n",
    "\n",
    "import copy\n",
    "l1=[[1,2],(3,4)]\n",
    "l2=copy.deepcopy(l1)\n",
    "l1.append(200)\n",
    "print(l1)\n",
    "print(l2)\n",
    "l1[0].append(3)\n",
    "print(l1)\n",
    "print(l2)\n",
    "l1[1]+=(5,6)\n",
    "print(l1)\n",
    "print(l2)"
   ]
  },
  {
   "cell_type": "code",
   "execution_count": 4,
   "metadata": {},
   "outputs": [
    {
     "name": "stdout",
     "output_type": "stream",
     "text": [
      "2\n",
      "[1, [...]]\n",
      "[1, [...]]\n",
      "---------------\n",
      "[1, [...]]\n",
      "2901802587720\n",
      "2901802587720\n",
      "2901802587720\n"
     ]
    }
   ],
   "source": [
    "\"\"\"深度拷贝的缺点\"\"\"\n",
    "import copy\n",
    "x=[1]\n",
    "x.append(x)#列表x有指向自身的引用,为什么会得到无限嵌套循环呢？\n",
    "print(len(x))\n",
    "print(x)\n",
    "\n",
    "y=copy.deepcopy(x)\n",
    "print(y)\n",
    "#x==y\n",
    "\n",
    "print(\"---------------\")\n",
    "print(x[1][1])\n",
    "print(id(x[1][1]))\n",
    "print(id(x[1][1][1]))\n",
    "print(id(x[1][1][1][1][1]))"
   ]
  },
  {
   "cell_type": "code",
   "execution_count": null,
   "metadata": {},
   "outputs": [],
   "source": [
    "\"\"\"\n",
    "Q:深度拷贝，拷贝一个无限嵌套的列表，可以用‘= =’进行比较吗？\n",
    "\n",
    "A:不可以，因为该对象是无限的，而‘= =’的比较需要逐一对元素进行比较，超出递归深度\n",
    "  而python为了防止栈崩溃，递归的层数是有限定的\n",
    "\n",
    "\"\"\""
   ]
  },
  {
   "cell_type": "code",
   "execution_count": null,
   "metadata": {},
   "outputs": [],
   "source": [
    "def factorial(n):\n",
    "    return 1 if n<=1 else n*factorial(n-1)\n",
    "print(factorial(3500))\n",
    "\n"
   ]
  },
  {
   "cell_type": "code",
   "execution_count": 2,
   "metadata": {},
   "outputs": [
    {
     "name": "stdout",
     "output_type": "stream",
     "text": [
      "3000\n",
      "3500\n"
     ]
    }
   ],
   "source": [
    "import sys\n",
    "print(sys.getrecursionlimit())\n",
    "sys.setrecursionlimit(3500)\n",
    "print(sys.getrecursionlimit())"
   ]
  }
 ],
 "metadata": {
  "kernelspec": {
   "display_name": "Python 3",
   "language": "python",
   "name": "python3"
  },
  "language_info": {
   "codemirror_mode": {
    "name": "ipython",
    "version": 3
   },
   "file_extension": ".py",
   "mimetype": "text/x-python",
   "name": "python",
   "nbconvert_exporter": "python",
   "pygments_lexer": "ipython3",
   "version": "3.6.5"
  }
 },
 "nbformat": 4,
 "nbformat_minor": 2
}
