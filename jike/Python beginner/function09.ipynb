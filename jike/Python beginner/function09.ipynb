{
 "cells": [
  {
   "cell_type": "code",
   "execution_count": 13,
   "metadata": {},
   "outputs": [
    {
     "name": "stdout",
     "output_type": "stream",
     "text": [
      "x= local\n"
     ]
    },
    {
     "data": {
      "text/plain": [
       "('x=', 'local')"
      ]
     },
     "execution_count": 13,
     "metadata": {},
     "output_type": "execute_result"
    }
   ],
   "source": [
    "def outer():\n",
    "    x='nonlocal'\n",
    "    def inner():\n",
    "        nonlocal x#代表不是局部变量x,而是外部函数定义的x\n",
    "        x='local'\n",
    "        print('x=',x)\n",
    "    inner()\n",
    "    return ('x=',x)\n",
    "outer()\n",
    "#inner()#内部函数，只能被外部函数调用和访问"
   ]
  },
  {
   "cell_type": "code",
   "execution_count": 15,
   "metadata": {},
   "outputs": [
    {
     "data": {
      "text/plain": [
       "3"
      ]
     },
     "execution_count": 15,
     "metadata": {},
     "output_type": "execute_result"
    }
   ],
   "source": [
    "#不能在函数内部随意修改全局变量的值\n",
    "MIN_VAL=1;\n",
    "MAX_VAL=10;\n",
    "def val_check(value):\n",
    "    #global MIN_VAL\n",
    "    MIN_VAL=3#内部局部变量和全局变量同名，在函数内部，局部变量会覆盖全局变量\n",
    "    return MIN_VAL\n",
    "val_check(5)\n",
    "    "
   ]
  },
  {
   "cell_type": "code",
   "execution_count": 20,
   "metadata": {},
   "outputs": [
    {
     "data": {
      "text/plain": [
       "8"
      ]
     },
     "execution_count": 20,
     "metadata": {},
     "output_type": "execute_result"
    }
   ],
   "source": [
    "def outer (exponent):\n",
    "    def inner(base):\n",
    "        return base**exponent\n",
    "    return inner\n",
    "squar=outer(2)\n",
    "squar(2)\n",
    "cube=outer(3)\n",
    "cube(2)"
   ]
  },
  {
   "cell_type": "code",
   "execution_count": 24,
   "metadata": {},
   "outputs": [
    {
     "name": "stdout",
     "output_type": "stream",
     "text": [
      "8\n",
      "[1, 2, 3, 4]\n",
      "helloworld\n"
     ]
    }
   ],
   "source": [
    "#python不用考虑输入的类型\n",
    "def my_sum(a,b):\n",
    "    return a+b\n",
    "print(my_sum(3,5))#整型\n",
    "print(my_sum([1,2],[3,4]))#列表\n",
    "print(my_sum('hello','world'))#字符串"
   ]
  },
  {
   "cell_type": "code",
   "execution_count": 25,
   "metadata": {},
   "outputs": [
    {
     "data": {
      "text/plain": [
       "0"
      ]
     },
     "execution_count": 25,
     "metadata": {},
     "output_type": "execute_result"
    }
   ],
   "source": [
    "def fun(a=0):\n",
    "    return a*100\n",
    "fun()"
   ]
  },
  {
   "cell_type": "code",
   "execution_count": 27,
   "metadata": {},
   "outputs": [
    {
     "name": "stdout",
     "output_type": "stream",
     "text": [
      "test\n"
     ]
    }
   ],
   "source": [
    "\n",
    "def f():\n",
    "    print(\"test\")\n",
    "f()"
   ]
  },
  {
   "cell_type": "code",
   "execution_count": null,
   "metadata": {},
   "outputs": [],
   "source": [
    "#what how why 闭包\n",
    "\"\"\"闭包外部函数返回的是一个函数，它是一个封闭的包裹，变量+函数\n",
    "\"\"\""
   ]
  }
 ],
 "metadata": {
  "kernelspec": {
   "display_name": "Python 3",
   "language": "python",
   "name": "python3"
  },
  "language_info": {
   "codemirror_mode": {
    "name": "ipython",
    "version": 3
   },
   "file_extension": ".py",
   "mimetype": "text/x-python",
   "name": "python",
   "nbconvert_exporter": "python",
   "pygments_lexer": "ipython3",
   "version": "3.6.5"
  }
 },
 "nbformat": 4,
 "nbformat_minor": 2
}
